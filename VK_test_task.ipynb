{
 "cells": [
  {
   "cell_type": "markdown",
   "id": "8191b5c1",
   "metadata": {
    "cellId": "5ktwqy7fzyuvzk6htliitl",
    "execution_id": "525e0a0d-00b7-45ff-b29e-b05cadd90561"
   },
   "source": [
    "Тестовое задание:\n",
    "\n",
    "https://grouplens.org/datasets/movielens/latest/ - датасет\n",
    "\n",
    "Необходимо построить векторные представления(эмбеддинги) пользователей и фильмов используя нейросетевые подходы, чтобы можно было по эмбеддингу пользователя искать похожие эмбеддинги фильмов и рекомендовать ему их."
   ]
  },
  {
   "cell_type": "code",
   "execution_count": null,
   "id": "fe7eb68c",
   "metadata": {
    "cellId": "9wj5m5erw8ue9hd1wdryhc"
   },
   "outputs": [],
   "source": [
    "#!c1.8\n",
    "import pandas as pd\n",
    "import numpy as np\n",
    "import matplotlib.pyplot as plt\n",
    "from sklearn.model_selection import train_test_split\n",
    "from torch.utils.data import DataLoader, Dataset\n",
    "from sklearn.metrics import roc_auc_score\n",
    "import torch.nn as nn\n",
    "import torch\n",
    "from tqdm.notebook import tqdm"
   ]
  },
  {
   "cell_type": "markdown",
   "id": "e07431a1",
   "metadata": {
    "cellId": "9y19ul6lkoq65iag2h1fjs",
    "execution_id": "13a7ebc7-7bdc-4219-9bcc-bb32763ece06"
   },
   "source": [
    "Посмотрим на данные"
   ]
  },
  {
   "cell_type": "code",
   "execution_count": 2,
   "id": "7eadbfb7",
   "metadata": {
    "cellId": "j1a6mvow16fpp7s2bh4g7"
   },
   "outputs": [
    {
     "data": {
      "text/html": [
       "<div>\n",
       "<style scoped>\n",
       "    .dataframe tbody tr th:only-of-type {\n",
       "        vertical-align: middle;\n",
       "    }\n",
       "\n",
       "    .dataframe tbody tr th {\n",
       "        vertical-align: top;\n",
       "    }\n",
       "\n",
       "    .dataframe thead th {\n",
       "        text-align: right;\n",
       "    }\n",
       "</style>\n",
       "<table border=\"1\" class=\"dataframe\">\n",
       "  <thead>\n",
       "    <tr style=\"text-align: right;\">\n",
       "      <th></th>\n",
       "      <th>userId</th>\n",
       "      <th>movieId</th>\n",
       "      <th>rating</th>\n",
       "      <th>timestamp</th>\n",
       "    </tr>\n",
       "  </thead>\n",
       "  <tbody>\n",
       "    <tr>\n",
       "      <th>0</th>\n",
       "      <td>1</td>\n",
       "      <td>307</td>\n",
       "      <td>3.5</td>\n",
       "      <td>1256677221</td>\n",
       "    </tr>\n",
       "    <tr>\n",
       "      <th>1</th>\n",
       "      <td>1</td>\n",
       "      <td>481</td>\n",
       "      <td>3.5</td>\n",
       "      <td>1256677456</td>\n",
       "    </tr>\n",
       "    <tr>\n",
       "      <th>2</th>\n",
       "      <td>1</td>\n",
       "      <td>1091</td>\n",
       "      <td>1.5</td>\n",
       "      <td>1256677471</td>\n",
       "    </tr>\n",
       "    <tr>\n",
       "      <th>3</th>\n",
       "      <td>1</td>\n",
       "      <td>1257</td>\n",
       "      <td>4.5</td>\n",
       "      <td>1256677460</td>\n",
       "    </tr>\n",
       "    <tr>\n",
       "      <th>4</th>\n",
       "      <td>1</td>\n",
       "      <td>1449</td>\n",
       "      <td>4.5</td>\n",
       "      <td>1256677264</td>\n",
       "    </tr>\n",
       "    <tr>\n",
       "      <th>5</th>\n",
       "      <td>1</td>\n",
       "      <td>1590</td>\n",
       "      <td>2.5</td>\n",
       "      <td>1256677236</td>\n",
       "    </tr>\n",
       "    <tr>\n",
       "      <th>6</th>\n",
       "      <td>1</td>\n",
       "      <td>1591</td>\n",
       "      <td>1.5</td>\n",
       "      <td>1256677475</td>\n",
       "    </tr>\n",
       "    <tr>\n",
       "      <th>7</th>\n",
       "      <td>1</td>\n",
       "      <td>2134</td>\n",
       "      <td>4.5</td>\n",
       "      <td>1256677464</td>\n",
       "    </tr>\n",
       "    <tr>\n",
       "      <th>8</th>\n",
       "      <td>1</td>\n",
       "      <td>2478</td>\n",
       "      <td>4.0</td>\n",
       "      <td>1256677239</td>\n",
       "    </tr>\n",
       "    <tr>\n",
       "      <th>9</th>\n",
       "      <td>1</td>\n",
       "      <td>2840</td>\n",
       "      <td>3.0</td>\n",
       "      <td>1256677500</td>\n",
       "    </tr>\n",
       "  </tbody>\n",
       "</table>\n",
       "</div>"
      ],
      "text/plain": [
       "   userId  movieId  rating   timestamp\n",
       "0       1      307     3.5  1256677221\n",
       "1       1      481     3.5  1256677456\n",
       "2       1     1091     1.5  1256677471\n",
       "3       1     1257     4.5  1256677460\n",
       "4       1     1449     4.5  1256677264\n",
       "5       1     1590     2.5  1256677236\n",
       "6       1     1591     1.5  1256677475\n",
       "7       1     2134     4.5  1256677464\n",
       "8       1     2478     4.0  1256677239\n",
       "9       1     2840     3.0  1256677500"
      ]
     },
     "execution_count": 2,
     "metadata": {},
     "output_type": "execute_result"
    }
   ],
   "source": [
    "#!c1.8\n",
    "ratings = pd.read_csv('ratings.csv')\n",
    "ratings.head(10)"
   ]
  },
  {
   "cell_type": "markdown",
   "id": "d6c71c44",
   "metadata": {
    "cellId": "np0slbk5czfj5flcqbzo6",
    "execution_id": "eb509135-d1dd-4eb0-ba51-33382e8650a4"
   },
   "source": [
    "Колонкой timestamp пользоваться не будем, удалим ее"
   ]
  },
  {
   "cell_type": "code",
   "execution_count": 3,
   "id": "5cde918d",
   "metadata": {
    "cellId": "3ytdsl8tnltq9k4k9wrlt"
   },
   "outputs": [],
   "source": [
    "#!c1.8\n",
    "ratings.drop(columns='timestamp', inplace=True)"
   ]
  },
  {
   "cell_type": "markdown",
   "id": "0b8a92f1",
   "metadata": {
    "cellId": "hhlkywb9unvzz52vxgkdvs",
    "execution_id": "0d71491c-5718-44d3-b650-821933605010"
   },
   "source": [
    "Посчитаем количество вхождений каждого фильма и пользователя, затем уберем те объекты, которые мало встречаются в данных, это поможет более качественно рекомендовать фильмы и сильно ускорит обучение"
   ]
  },
  {
   "cell_type": "code",
   "execution_count": 5,
   "id": "5fffb11c",
   "metadata": {
    "cellId": "gtc93xyq10gmbs8dx29h3o"
   },
   "outputs": [],
   "source": [
    "#!c1.8\n",
    "rt = ratings.pivot_table(index = ['movieId'], aggfunc ='size')\n",
    "\n",
    "ratings['movie_counter'] = ratings['movieId'].apply(lambda x : rt[x])\n",
    "\n",
    "rt = ratings.pivot_table(index = ['userId'], aggfunc ='size')\n",
    "\n",
    "ratings['user_counter'] = ratings['userId'].apply(lambda x : rt[x])"
   ]
  },
  {
   "cell_type": "code",
   "execution_count": 9,
   "id": "f9bbc0d1",
   "metadata": {
    "cellId": "vr0132iier3dcnbcqxkix"
   },
   "outputs": [
    {
     "name": "stdout",
     "output_type": "stream",
     "text": [
      "5895.244236128706\n",
      "1266.1354359925788\n",
      "1078.5\n"
     ]
    }
   ],
   "source": [
    "#!c1.8\n",
    "print(np.unique(ratings['movie_counter'].values).mean())\n",
    "print(np.unique(ratings['user_counter'].values).mean())\n",
    "print(np.median(np.unique(ratings['user_counter'].values)))"
   ]
  },
  {
   "cell_type": "code",
   "execution_count": 22,
   "id": "684613c3",
   "metadata": {
    "cellId": "04uja2blq14nodwazr3nf1"
   },
   "outputs": [],
   "source": [
    "#!c1.8\n",
    "new_ratings = ratings[ratings['movie_counter'] > 500]"
   ]
  },
  {
   "cell_type": "code",
   "execution_count": 23,
   "id": "e6655339",
   "metadata": {
    "cellId": "l01sl0pk8r9sn65a596pdh"
   },
   "outputs": [],
   "source": [
    "#!c1.8\n",
    "new_ratings = new_ratings[new_ratings['user_counter'] > 100]"
   ]
  },
  {
   "cell_type": "markdown",
   "id": "0f01e757",
   "metadata": {
    "cellId": "xes9hxs951j5hg90j8uv4r",
    "execution_id": "648b6de8-c6f9-4881-b01a-c901e63b78b8"
   },
   "source": [
    "Изобразим распределение всех оценок"
   ]
  },
  {
   "cell_type": "code",
   "execution_count": 24,
   "id": "d9150d1c",
   "metadata": {
    "cellId": "k916eqoe3rwqe9fo79rg"
   },
   "outputs": [
    {
     "data": {
      "text/plain": [
       "(array([ 295234.,  616827.,  328139., 1365187., 1061361., 3926312.,\n",
       "        2646230., 5354632., 1741395., 2601882.]),\n",
       " array([0.5 , 0.95, 1.4 , 1.85, 2.3 , 2.75, 3.2 , 3.65, 4.1 , 4.55, 5.  ]),\n",
       " <a list of 10 Patch objects>)"
      ]
     },
     "execution_count": 24,
     "metadata": {},
     "output_type": "execute_result"
    },
    {
     "data": {
      "image/png": "[encoded data removed]",
      "text/plain": [
       "<Figure size 432x288 with 1 Axes>"
      ]
     },
     "metadata": {
      "needs_background": "light"
     },
     "output_type": "display_data"
    }
   ],
   "source": [
    "#!c1.8\n",
    "plt.hist(new_ratings['rating'])"
   ]
  },
  {
   "cell_type": "markdown",
   "id": "2e7f9193",
   "metadata": {
    "cellId": "twcp2s7zvb8gg7r8pn2na",
    "execution_id": "4b40e910-17c5-4cb5-84fd-e150a474d049"
   },
   "source": [
    "Примерно половина всех оценок имеет рейтинг $\\geqslant4$, будем разделять оценки на позитивные и негативные, оценки с рейтингом хотя бы 4 считаем позитивными, иначе негативными"
   ]
  },
  {
   "cell_type": "code",
   "execution_count": 25,
   "id": "cf499349",
   "metadata": {
    "cellId": "40tw1ql3ixx5z0nwbgefli"
   },
   "outputs": [],
   "source": [
    "#!c1.8\n",
    "#ratings.to_csv('ratings_with_counters.csv', index=False)"
   ]
  },
  {
   "cell_type": "code",
   "execution_count": 26,
   "id": "fadb4181",
   "metadata": {
    "cellId": "r5rwsc4k4f1eii6zumfkh"
   },
   "outputs": [
    {
     "data": {
      "text/plain": [
       "(19937199, 5)"
      ]
     },
     "execution_count": 26,
     "metadata": {},
     "output_type": "execute_result"
    }
   ],
   "source": [
    "#!c1.8\n",
    "new_ratings.shape"
   ]
  },
  {
   "cell_type": "markdown",
   "id": "e578c67e",
   "metadata": {
    "cellId": "p2ywyjasqomq254mqkqu1a",
    "execution_id": "cd35e56b-229c-4a0a-baa9-4f3e997e55c6"
   },
   "source": [
    "Колонки с подсчетами больше не нужны, удалим их "
   ]
  },
  {
   "cell_type": "code",
   "execution_count": 28,
   "id": "7f5591cf",
   "metadata": {
    "cellId": "pu02lfep7em4dbzaf1z08g"
   },
   "outputs": [],
   "source": [
    "#!c1.8\n",
    "new_ratings.drop(columns=['movie_counter'], inplace=True)\n",
    "new_ratings.drop(columns=['user_counter'], inplace=True)"
   ]
  },
  {
   "cell_type": "markdown",
   "id": "faa0edbf",
   "metadata": {
    "cellId": "gtd10o4i4hkri74jqvs8qm",
    "execution_id": "d83f3ec3-929b-4350-8101-3a6a80c3fb44"
   },
   "source": [
    "Переиндексируем юзеров и фильмы для дальнейшей работы"
   ]
  },
  {
   "cell_type": "code",
   "execution_count": 29,
   "id": "48f3d651",
   "metadata": {
    "cellId": "e4tp4fv7eefv2ekxo3263s"
   },
   "outputs": [],
   "source": [
    "#!c1.8\n",
    "new_movie_id = dict()\n",
    "new_user_id = dict()\n",
    "movie_id = np.unique(new_ratings['movieId'])\n",
    "user_id = np.unique(new_ratings['userId'])\n",
    "for index, movie in enumerate(movie_id):\n",
    "    new_movie_id[movie] = index\n",
    "for index, user in enumerate(user_id):\n",
    "    new_user_id[user] = index"
   ]
  },
  {
   "cell_type": "code",
   "execution_count": 30,
   "id": "5f89e597",
   "metadata": {
    "cellId": "onyakac2d6o005b4f01zp"
   },
   "outputs": [],
   "source": [
    "#!c1.8\n",
    "new_ratings['movieId'] = new_ratings['movieId'].apply(lambda x : new_movie_id[x])\n",
    "new_ratings['userId'] = new_ratings['userId'].apply(lambda x : new_user_id[x])"
   ]
  },
  {
   "cell_type": "code",
   "execution_count": 31,
   "id": "f0fd20a1",
   "metadata": {
    "cellId": "ldlq2ojic1to7gsztpbp"
   },
   "outputs": [],
   "source": [
    "#!c1.8\n",
    "new_ratings.reset_index(inplace = True, drop=True)"
   ]
  },
  {
   "cell_type": "markdown",
   "id": "4fd495fe",
   "metadata": {
    "cellId": "d0rv2evix2px1c0c53nihd",
    "execution_id": "e06212ce-66e0-43ec-bd3b-16306e58bb0e"
   },
   "source": [
    "На валидации мы хотим для каждого пользователя проверить является ли фильм хорошей рекомендацией для него, для этого разделим выборку на train и test используя параметр stratify, чтобы экземпляры каждого пользователя присутствовали и в обучении, и валидации."
   ]
  },
  {
   "cell_type": "code",
   "execution_count": 32,
   "id": "3b8455eb",
   "metadata": {
    "cellId": "3eldnwha7b1bfnsgg8md3f"
   },
   "outputs": [],
   "source": [
    "#!c1.8\n",
    "train, test = train_test_split(new_ratings, test_size=0.2, stratify=new_ratings['userId'])"
   ]
  },
  {
   "cell_type": "code",
   "execution_count": 33,
   "id": "f7cf5965",
   "metadata": {
    "cellId": "cadl24gw14eyqdd5ew38j"
   },
   "outputs": [
    {
     "data": {
      "text/plain": [
       "((15949759, 3), (3987440, 3))"
      ]
     },
     "execution_count": 33,
     "metadata": {},
     "output_type": "execute_result"
    }
   ],
   "source": [
    "#!c1.8\n",
    "train.shape, test.shape"
   ]
  },
  {
   "cell_type": "markdown",
   "id": "318a03ae",
   "metadata": {
    "cellId": "jol945z5ojr2xcqdot6mw7",
    "execution_id": "eb1a91ea-daaa-430a-998e-45fb5c83d85f"
   },
   "source": [
    "Разобьем обучающую выборку на позитивные и негативные оценки"
   ]
  },
  {
   "cell_type": "code",
   "execution_count": 34,
   "id": "7ac20702",
   "metadata": {
    "cellId": "jfh3sac2b5iyg8mz7vuyi"
   },
   "outputs": [
    {
     "data": {
      "text/plain": [
       "((7758947, 3), (8190812, 3))"
      ]
     },
     "execution_count": 34,
     "metadata": {},
     "output_type": "execute_result"
    }
   ],
   "source": [
    "#!c1.8\n",
    "train_pos = train[train['rating']>=4]\n",
    "train_neg = train[train['rating']<4]\n",
    "train_pos.shape, train_neg.shape"
   ]
  },
  {
   "cell_type": "markdown",
   "id": "f16b8ada",
   "metadata": {
    "cellId": "7rmak2yiidvws8emxpo82t",
    "execution_id": "a3680f5b-c6dd-4251-b05f-9fe4ea5041e8"
   },
   "source": [
    "Посмотрим сколько в наших данных уникальных пользователей и фильмов"
   ]
  },
  {
   "cell_type": "code",
   "execution_count": 35,
   "id": "6332a91d",
   "metadata": {
    "cellId": "8piai2lnkiawv99c8e67"
   },
   "outputs": [
    {
     "data": {
      "text/plain": [
       "(67448, 5545)"
      ]
     },
     "execution_count": 35,
     "metadata": {},
     "output_type": "execute_result"
    }
   ],
   "source": [
    "#!c1.8\n",
    "num_users = np.unique(new_ratings['userId']).shape[0]\n",
    "num_movies = np.unique(new_ratings['movieId']).shape[0]\n",
    "num_users, num_movies"
   ]
  },
  {
   "cell_type": "markdown",
   "id": "7bafb02b",
   "metadata": {
    "cellId": "v0fhznyob61sv8hi30xwz",
    "execution_id": "e80d29eb-447c-47d7-a462-72146c96d9e9"
   },
   "source": [
    "Опишем решение : для обучения эмбеддингов будем использовать Triplet Loss\n",
    "\n",
    "$L(a,p,n) = max(d(a,p) - d(a,n) + m, 0)$\n",
    "\n",
    "здесь $d$ - метрика в пространстве эмбеддингов, $a$ - объект пользователь, $p$ - позитивная оценка для юзера, $n$ - негативная оценка, $m$ - margin, как сильно мы хотим разделять(по метрике $d$) позитивные и негативные примеры в пространстве эмбеддингов. В рамках задачи будем считать для каждого юзера негативными те оценки, которые имеют рейтинг меньше 4. В качестве метрики берем $L2$ расстояние\n",
    "\n",
    "Идея состоит в семплировании триплетов $(a,p,n)$ и обучении с помощью $L(a,p,n)$"
   ]
  },
  {
   "cell_type": "markdown",
   "id": "de88a76e",
   "metadata": {
    "cellId": "ohtrn2gnexikj7gjaiih7l",
    "execution_id": "6b55dcd2-b8f4-4946-aef9-6ed6ac4dc8a7"
   },
   "source": [
    "Для начала реализуем датасет из триплетов, будет для каждой пары (пользователь, фильм) c позитивной оценкой выбирать случайно фильм с негативной оценкой."
   ]
  },
  {
   "cell_type": "code",
   "execution_count": 36,
   "id": "3d665ba8",
   "metadata": {
    "cellId": "neu0k7eoqnqduhi5q0d9ig"
   },
   "outputs": [],
   "source": [
    "#!c1.8\n",
    "class Triplets(Dataset):\n",
    "    def __init__(self, data, num_movies):\n",
    "        self.num_movies = num_movies\n",
    "        self.data_pos = data[data['rating'] >= 4]\n",
    "        self.anchors = self.data_pos['userId'].values\n",
    "        self.data_pos = self.data_pos['movieId'].values\n",
    "        self.data_neg = data[data['rating'] < 4]\n",
    "        self.data_neg = self.data_neg['movieId'].values\n",
    "        \n",
    "    def __len__(self):\n",
    "        return len(self.data_pos)\n",
    "    \n",
    "    def __getitem__(self, index):\n",
    "        anchor = self.anchors[index]\n",
    "        positive = self.data_pos[index]\n",
    "        negative_index = np.random.choice(self.data_neg.shape[0])\n",
    "        negative = self.data_neg[negative_index]\n",
    "\n",
    "        return anchor, positive, negative"
   ]
  },
  {
   "cell_type": "markdown",
   "id": "712daea5",
   "metadata": {
    "cellId": "8w57mg1ax4efk06hkkk47f",
    "execution_id": "460a2b1f-bdf5-43dc-a89f-c8a9f2acebce"
   },
   "source": [
    "Обернем триплеты в dataloader для обучения"
   ]
  },
  {
   "cell_type": "code",
   "execution_count": 45,
   "id": "659917df",
   "metadata": {
    "cellId": "wahq2odrxof3lul9ge0fm"
   },
   "outputs": [],
   "source": [
    "#!c1.8\n",
    "batch_size = 128\n",
    "\n",
    "train_dataset = Triplets(train, num_movies)\n",
    "train_loader = DataLoader(train_dataset, batch_size=batch_size, shuffle=True)"
   ]
  },
  {
   "cell_type": "markdown",
   "id": "64bee51f",
   "metadata": {
    "cellId": "bq8z9wi04fs74j50e4z53p",
    "execution_id": "2a127360-aaff-41a4-b7aa-7aa321036391"
   },
   "source": [
    "Сама архитектура крайне проста, имеем две различные головы для построения эмбеддингов юзеров и фильмов. Для юзера и фильма модель будет возвращать расстояние между ними(далее эти расстояния будут интерпретироваться как вероятности). Так как triplet loss старается отделить от $a$ негативные эмбеддинги $n$, а позитивные $p$ приблизить, то чем меньше будет расстояние между объектами, тем лучше данная рекомендация."
   ]
  },
  {
   "cell_type": "code",
   "execution_count": 46,
   "id": "a3175ced",
   "metadata": {
    "cellId": "uop1txv1nqe2n3zcqeryp4"
   },
   "outputs": [],
   "source": [
    "#!c1.8\n",
    "class Embeddings(nn.Module):\n",
    "    def __init__(self, num_users, num_movies, embed_dim, margin=10):\n",
    "        super().__init__()\n",
    "        self.margin = margin\n",
    "        self.embed_dim = embed_dim\n",
    "        self.num_users = num_users\n",
    "        self.num_movies = num_movies\n",
    "        \n",
    "        #self.cos = nn.CosineSimilarity()\n",
    "        \n",
    "        self.user_head = nn.Sequential(nn.Embedding(self.num_users, self.embed_dim), nn.Flatten())\n",
    "        self.movie_head = nn.Sequential(nn.Embedding(self.num_movies, self.embed_dim), nn.Flatten())\n",
    "        \n",
    "    def forward(self, anchor, positive, negative):\n",
    "        embed_anchor = self.user_head(anchor)\n",
    "        embed_positive = self.movie_head(positive)\n",
    "        embed_negative = self.movie_head(negative)\n",
    "        \n",
    "        dist1 = ((embed_anchor - embed_positive)**2).sum(axis=1)\n",
    "        dist2 = ((embed_anchor - embed_negative)**2).sum(axis=1)\n",
    "        \n",
    "        #return (1 - torch.sigmoid(dist1 - dist2)).sum()\n",
    "        return torch.relu(dist1 - dist2 + self.margin)\n",
    "    \n",
    "    def predict(self, user, movie):\n",
    "        with torch.no_grad():\n",
    "            embed_user = self.user_head(torch.tensor(user, dtype=torch.int32))\n",
    "            embed_movie = self.movie_head(torch.tensor(movie, dtype=torch.int32))\n",
    "            return ((embed_user - embed_movie)**2).sum(axis=1)"
   ]
  },
  {
   "cell_type": "markdown",
   "id": "3fca182c",
   "metadata": {
    "cellId": "3z7kh72fbcdhbe7avwdw7k",
    "execution_id": "83c2675e-0ef5-4406-8e39-d944531fbf76"
   },
   "source": [
    "В качестве метрики будем использовать средний ROC-AUC по всем пользователям. Выбор метрики объясняется тем, что в рамках данного решения мы для каждого юзера предсказываем вероятность того, что он оценит данную рекомендацию как положительную, при этом чем расстояние в пространстве эмбеддингов меньше, тем рекомендация более вероятна. Формально мы хотим оценить то, как хорошо для конкретного юзера были упорядочены фильмы(в смысле метрики $L2$), ROC-AUC делает именно это."
   ]
  },
  {
   "cell_type": "code",
   "execution_count": 47,
   "id": "cd11d3ef",
   "metadata": {
    "cellId": "gsnbkwe963jpme7gen1d9"
   },
   "outputs": [],
   "source": [
    "#!c1.8\n",
    "def auc_roc(test, model, num_users, num_movies):\n",
    "    auc_scores = []\n",
    "    for user in tqdm(range(num_users)):\n",
    "        user_test = test[test['userId']==user]\n",
    "        user_test_movies = user_test['movieId'].values\n",
    "        user = [user] * len(user_test_movies)\n",
    "        results = model.predict(user, user_test_movies)\n",
    "        labels = user_test['rating'].apply(lambda x : x >= 4).values\n",
    "        results /= results.sum()\n",
    "        if (np.unique(labels).shape[0] > 1):\n",
    "            auc_scores.append(roc_auc_score(labels, 1 - results)) # здесь 1 - results, потому что чем расстояние больше - тем больше вероятность,\n",
    "    return np.mean(np.array(auc_scores))                          # а в нашем пространстве чем объекты ближе, тем рекомендация лучше, поэтому\n",
    "                                                                  # вероятности надо обратить"
   ]
  },
  {
   "cell_type": "markdown",
   "id": "048b0e45",
   "metadata": {
    "cellId": "0adfma5896earl5ijsi8tg",
    "execution_id": "f7762acb-4a4b-4f1c-8db8-96b9f6d709bb"
   },
   "source": [
    "Создадим модель и оптимизатор"
   ]
  },
  {
   "cell_type": "code",
   "execution_count": 48,
   "id": "e1a34a5f",
   "metadata": {
    "cellId": "q132uwmfqdn16d74u2t04t"
   },
   "outputs": [],
   "source": [
    "#!c1.8\n",
    "model = Embeddings(num_users, num_movies, embed_dim=64, margin=80)\n",
    "optimizer = torch.optim.Adam(model.parameters())"
   ]
  },
  {
   "cell_type": "markdown",
   "id": "9e2a93ab",
   "metadata": {
    "cellId": "u5c13pccf5esbubvt2lnc",
    "execution_id": "62e8de72-4888-4ac4-822f-3ec2ef862b2b"
   },
   "source": [
    "Реализуем функции для обучения"
   ]
  },
  {
   "cell_type": "code",
   "execution_count": 49,
   "id": "04cedb63",
   "metadata": {
    "cellId": "96fzt671rlrd5v4sab4am"
   },
   "outputs": [],
   "source": [
    "#!c1.8\n",
    "def train_model(model, optimizer, loader):\n",
    "    model.train()\n",
    "    losses_tr = []\n",
    "    \n",
    "    for (anchors, positives, negatives) in tqdm(loader):\n",
    "        optimizer.zero_grad()\n",
    "        loss = model(anchors, positives, negatives)\n",
    "        loss = loss.mean()\n",
    "        loss.backward()\n",
    "        optimizer.step()\n",
    "        losses_tr.append(loss.item())\n",
    "        \n",
    "    return model, optimizer, np.mean(losses_tr)"
   ]
  },
  {
   "cell_type": "code",
   "execution_count": 50,
   "id": "fae45ec9",
   "metadata": {
    "cellId": "z8e8mo4ppodpmqp7lrqxcd"
   },
   "outputs": [],
   "source": [
    "#!c1.8\n",
    "from IPython.display import clear_output\n",
    "from tqdm.notebook import trange"
   ]
  },
  {
   "cell_type": "code",
   "execution_count": 51,
   "id": "8e36bdc6",
   "metadata": {
    "cellId": "q2gkkdh5glainkh5rtb7m"
   },
   "outputs": [],
   "source": [
    "#!c1.8\n",
    "def learning_loop(model, optimizer, train_loader, epochs=40, draw_every=1, separate_show=False):\n",
    "    losses = {'train': [], 'val': []}\n",
    "\n",
    "    for epoch in range(1, epochs+1):\n",
    "        print(f'#{epoch}/{epochs}:')\n",
    "        model, optimizer, loss = train_model(model, optimizer, train_loader)\n",
    "        losses['train'].append(loss)\n",
    "\n",
    "        if not (epoch % draw_every):\n",
    "            clear_output(True)\n",
    "            fig, ax = plt.subplots(1, 2 if separate_show else 1, figsize=(20, 10))\n",
    "            fig.suptitle(f'#{epoch}/{epochs}:')\n",
    "\n",
    "            if separate_show:\n",
    "                plt.subplot(121)\n",
    "                plt.title('loss on train')\n",
    "            plt.plot(losses['train'], 'r.-', label='train')\n",
    "            plt.legend()\n",
    "            \n",
    "            plt.show()\n",
    "\n",
    "    return model, optimizer, losses"
   ]
  },
  {
   "cell_type": "markdown",
   "id": "40209385",
   "metadata": {
    "cellId": "tl3rj6zlyapzh1klz4b23",
    "execution_id": "e205ef57-6e30-4151-94ae-3c8c43196d8b"
   },
   "source": [
    "Обучим модель:"
   ]
  },
  {
   "cell_type": "code",
   "execution_count": 52,
   "id": "47eab4d8",
   "metadata": {
    "cellId": "npsgbqx7lqnsd7g3u3hj5h",
    "scrolled": true
   },
   "outputs": [
    {
     "data": {
      "image/png": "[encoded data removed]",
      "text/plain": [
       "<Figure size 1440x720 with 1 Axes>"
      ]
     },
     "metadata": {
      "needs_background": "light"
     },
     "output_type": "display_data"
    },
    {
     "data": {
      "text/plain": [
       "(Embeddings(\n",
       "   (user_head): Sequential(\n",
       "     (0): Embedding(67448, 64)\n",
       "     (1): Flatten(start_dim=1, end_dim=-1)\n",
       "   )\n",
       "   (movie_head): Sequential(\n",
       "     (0): Embedding(5545, 64)\n",
       "     (1): Flatten(start_dim=1, end_dim=-1)\n",
       "   )\n",
       " ),\n",
       " Adam (\n",
       " Parameter Group 0\n",
       "     amsgrad: False\n",
       "     betas: (0.9, 0.999)\n",
       "     eps: 1e-08\n",
       "     lr: 0.001\n",
       "     weight_decay: 0\n",
       " ),\n",
       " {'train': [55.62204623447723,\n",
       "   52.160433048176735,\n",
       "   46.272226261027086,\n",
       "   38.844610094758615,\n",
       "   34.19719822432688,\n",
       "   31.2277913397131,\n",
       "   29.246611526590325,\n",
       "   27.813031633304924,\n",
       "   26.736187483769303,\n",
       "   25.855586468718165],\n",
       "  'val': []})"
      ]
     },
     "execution_count": 52,
     "metadata": {},
     "output_type": "execute_result"
    }
   ],
   "source": [
    "#!c1.8\n",
    "learning_loop(model, optimizer, train_loader, epochs=10)"
   ]
  },
  {
   "cell_type": "markdown",
   "id": "1bebfa93",
   "metadata": {
    "cellId": "u5022ydg36r0s6og2janj",
    "execution_id": "308fd003-93b3-4b35-813d-369fcd15fca8"
   },
   "source": [
    "Посмотрим на качество модели на тестовых данных:"
   ]
  },
  {
   "cell_type": "code",
   "execution_count": 54,
   "id": "2d7636be",
   "metadata": {
    "cellId": "6fjxxft8rjclad5pi2fxvp"
   },
   "outputs": [
    {
     "data": {
      "application/vnd.jupyter.widget-view+json": {
       "model_id": "235db23741584156b5eac130236ad01d",
       "version_major": 2,
       "version_minor": 0
      },
      "text/plain": [
       "HBox(children=(HTML(value=''), FloatProgress(value=0.0, max=67448.0), HTML(value='')))"
      ]
     },
     "metadata": {},
     "output_type": "display_data"
    },
    {
     "name": "stdout",
     "output_type": "stream",
     "text": [
      "\n",
      "0.7234643251512703\n"
     ]
    }
   ],
   "source": [
    "#!c1.8\n",
    "print(auc_roc(test, model, num_users, num_movies))"
   ]
  },
  {
   "cell_type": "markdown",
   "id": "92cf7813",
   "metadata": {
    "cellId": "z61bkgelynaupra96jhb",
    "execution_id": "50b7806b-1b93-4e58-97ab-cdabb702f12d"
   },
   "source": [
    "Дальнейшие улучшения :\n",
    "1) В своей статье https://arxiv.org/pdf/1503.03832.pdf авторы обращают особое внимание на подбор триплетов для обучения, в приведенном решении триплеты выбирались из позитивных и негативных случайно, однако, если на каждом шаге подбирать для юзера hard-триплеты, то это сильно улучшит качество модели. 2) Вместо просто слоев nn.Embedding можно в архитектуру добавить полносвязные слои. 3) Попробовать получше подобрать параметр $m$ в лоссе"
   ]
  }
 ],
 "metadata": {
  "kernelspec": {
   "display_name": "Python 3 (ipykernel)",
   "language": "python",
   "name": "python3"
  },
  "language_info": {
   "codemirror_mode": {
    "name": "ipython",
    "version": 3
   },
   "file_extension": ".py",
   "mimetype": "text/x-python",
   "name": "python",
   "nbconvert_exporter": "python",
   "pygments_lexer": "ipython3",
   "version": "3.10.6"
  },
  "notebookId": "647ca492-09fb-4294-93c3-fb2d20c6d325",
  "notebookPath": "VK_test_task.ipynb"
 },
 "nbformat": 4,
 "nbformat_minor": 5
}
